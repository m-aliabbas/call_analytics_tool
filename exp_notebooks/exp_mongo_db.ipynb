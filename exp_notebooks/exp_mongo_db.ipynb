{
 "cells": [
  {
   "cell_type": "code",
   "execution_count": 1,
   "metadata": {},
   "outputs": [],
   "source": [
    "import pymongo"
   ]
  },
  {
   "cell_type": "code",
   "execution_count": 2,
   "metadata": {},
   "outputs": [],
   "source": [
    "myclient = pymongo.MongoClient(\"mongodb://localhost:27017/\")"
   ]
  },
  {
   "cell_type": "code",
   "execution_count": 3,
   "metadata": {},
   "outputs": [],
   "source": [
    "mydb = myclient[\"call_analytics_tool\"]"
   ]
  },
  {
   "cell_type": "code",
   "execution_count": 4,
   "metadata": {},
   "outputs": [
    {
     "data": {
      "text/plain": [
       "Database(MongoClient(host=['localhost:27017'], document_class=dict, tz_aware=False, connect=True), 'call_analytics_tool')"
      ]
     },
     "execution_count": 4,
     "metadata": {},
     "output_type": "execute_result"
    }
   ],
   "source": [
    "mydb"
   ]
  },
  {
   "cell_type": "code",
   "execution_count": 29,
   "metadata": {},
   "outputs": [],
   "source": [
    "mycol = mydb[\"call_record\"]\n",
    "\n",
    "mydict = {\n",
    "        'file_id': '20220328-102401_6623727904-all',\n",
    "        'SPEAKER_01_1': {'trascript': ' Hello? Hello? Hi, this is Amy with American Senior Citizens Care. How are you doing today?'},\n",
    "        'SPEAKER_00_1': {'trascript': \" I'm five.\"},\n",
    "        'SPEAKER_01_2': {'trascript': ' Sorry to hear that. This call is about a new state regulated final expense.'},\n",
    "        'SPEAKER_00_2': {'trascript': ' Insurance Plan which covers 100% of your burial funerals.'},\n",
    "        'SPEAKER_01_3': {'trascript': ' or cremation expenses. It is specifically designed for the people on fixed income or social security. Would you like to learn more about...'},\n",
    "        'SPEAKER_00_3': {'trascript': ' Yes.'},\n",
    "        'SPEAKER_01_4': {'trascript': ' qualify you for the plan, are you between the age of 40 and 80? Yes. Are you capable enough to make your own financial decisions?'},\n",
    "        'SPEAKER_00_4': {'trascript': ' Yeah.'},\n",
    "        'SPEAKER_01_5': {'trascript': ' Great! Let me bring the state licensed product specialist on the line to share information with you. Please hold.'}\n",
    "        } \n",
    "\n",
    "x = mycol.insert_one(mydict)"
   ]
  },
  {
   "cell_type": "code",
   "execution_count": 51,
   "metadata": {},
   "outputs": [
    {
     "name": "stdout",
     "output_type": "stream",
     "text": [
      "Not available\n"
     ]
    }
   ],
   "source": [
    "if mycol.find_one({'file_id':'20220328-102401_6623727904-bll'}) is None:\n",
    "    print('Not available')"
   ]
  },
  {
   "cell_type": "code",
   "execution_count": 54,
   "metadata": {},
   "outputs": [
    {
     "data": {
      "text/plain": [
       "[{'_id': ObjectId('64b0f0e6d3c7e1b3e9547eaa'),\n",
       "  'file_id': '20220328-102401_6623727904-all',\n",
       "  'SPEAKER_01_1': {'trascript': ' Hello? Hello? Hi, this is Amy with American Senior Citizens Care. How are you doing today?'},\n",
       "  'SPEAKER_00_1': {'trascript': \" I'm five.\"},\n",
       "  'SPEAKER_01_2': {'trascript': ' Sorry to hear that. This call is about a new state regulated final expense.'},\n",
       "  'SPEAKER_00_2': {'trascript': ' Insurance Plan which covers 100% of your burial funerals.'},\n",
       "  'SPEAKER_01_3': {'trascript': ' or cremation expenses. It is specifically designed for the people on fixed income or social security. Would you like to learn more about...'},\n",
       "  'SPEAKER_00_3': {'trascript': ' Yes.'},\n",
       "  'SPEAKER_01_4': {'trascript': ' qualify you for the plan, are you between the age of 40 and 80? Yes. Are you capable enough to make your own financial decisions?'},\n",
       "  'SPEAKER_00_4': {'trascript': ' Yeah.'},\n",
       "  'SPEAKER_01_5': {'trascript': ' Great! Let me bring the state licensed product specialist on the line to share information with you. Please hold.'}},\n",
       " {'_id': ObjectId('64b0fcbfd3c7e1b3e9547eac'),\n",
       "  'file_id': '20220328-102401_6623727904-all',\n",
       "  'SPEAKER_01_1': {'trascript': ' Hello? Hello? Hi, this is Amy with American Senior Citizens Care. How are you doing today?'},\n",
       "  'SPEAKER_00_1': {'trascript': \" I'm five.\"},\n",
       "  'SPEAKER_01_2': {'trascript': ' Sorry to hear that. This call is about a new state regulated final expense.'},\n",
       "  'SPEAKER_00_2': {'trascript': ' Insurance Plan which covers 100% of your burial funerals.'},\n",
       "  'SPEAKER_01_3': {'trascript': ' or cremation expenses. It is specifically designed for the people on fixed income or social security. Would you like to learn more about...'},\n",
       "  'SPEAKER_00_3': {'trascript': ' Yes.'},\n",
       "  'SPEAKER_01_4': {'trascript': ' qualify you for the plan, are you between the age of 40 and 80? Yes. Are you capable enough to make your own financial decisions?'},\n",
       "  'SPEAKER_00_4': {'trascript': ' Yeah.'},\n",
       "  'SPEAKER_01_5': {'trascript': ' Great! Let me bring the state licensed product specialist on the line to share information with you. Please hold.'}},\n",
       " {'_id': ObjectId('64b0fcdbd3c7e1b3e9547ead'),\n",
       "  'file_id': '20220328-102401_6623727904-all',\n",
       "  'SPEAKER_01_1': {'trascript': ' Hello? Hello? Hi, this is Amy with American Senior Citizens Care. How are you doing today?'},\n",
       "  'SPEAKER_00_1': {'trascript': \" I'm five.\"},\n",
       "  'SPEAKER_01_2': {'trascript': ' Sorry to hear that. This call is about a new state regulated final expense.'},\n",
       "  'SPEAKER_00_2': {'trascript': ' Insurance Plan which covers 100% of your burial funerals.'},\n",
       "  'SPEAKER_01_3': {'trascript': ' or cremation expenses. It is specifically designed for the people on fixed income or social security. Would you like to learn more about...'},\n",
       "  'SPEAKER_00_3': {'trascript': ' Yes.'},\n",
       "  'SPEAKER_01_4': {'trascript': ' qualify you for the plan, are you between the age of 40 and 80? Yes. Are you capable enough to make your own financial decisions?'},\n",
       "  'SPEAKER_00_4': {'trascript': ' Yeah.'},\n",
       "  'SPEAKER_01_5': {'trascript': ' Great! Let me bring the state licensed product specialist on the line to share information with you. Please hold.'}}]"
      ]
     },
     "execution_count": 54,
     "metadata": {},
     "output_type": "execute_result"
    }
   ],
   "source": [
    "list(mycol.find({'file_id':'20220328-102401_6623727904-all'}))"
   ]
  },
  {
   "cell_type": "code",
   "execution_count": 53,
   "metadata": {},
   "outputs": [
    {
     "data": {
      "text/plain": [
       "[{'_id': ObjectId('64b0f0e6d3c7e1b3e9547eaa'),\n",
       "  'file_id': '20220328-102401_6623727904-all',\n",
       "  'SPEAKER_01_1': {'trascript': ' Hello? Hello? Hi, this is Amy with American Senior Citizens Care. How are you doing today?'}},\n",
       " {'_id': ObjectId('64b0fcbfd3c7e1b3e9547eac'),\n",
       "  'file_id': '20220328-102401_6623727904-all',\n",
       "  'SPEAKER_01_1': {'trascript': ' Hello? Hello? Hi, this is Amy with American Senior Citizens Care. How are you doing today?'}},\n",
       " {'_id': ObjectId('64b0fcdbd3c7e1b3e9547ead'),\n",
       "  'file_id': '20220328-102401_6623727904-all',\n",
       "  'SPEAKER_01_1': {'trascript': ' Hello? Hello? Hi, this is Amy with American Senior Citizens Care. How are you doing today?'}}]"
      ]
     },
     "execution_count": 53,
     "metadata": {},
     "output_type": "execute_result"
    }
   ],
   "source": [
    "list(mycol.find({},['file_id','SPEAKER_01_1']))"
   ]
  },
  {
   "cell_type": "code",
   "execution_count": 41,
   "metadata": {},
   "outputs": [],
   "source": [
    "col_name = "
   ]
  },
  {
   "cell_type": "code",
   "execution_count": 10,
   "metadata": {},
   "outputs": [
    {
     "ename": "ModuleNotFoundError",
     "evalue": "No module named 'Processor'",
     "output_type": "error",
     "traceback": [
      "\u001b[1;31m---------------------------------------------------------------------------\u001b[0m",
      "\u001b[1;31mModuleNotFoundError\u001b[0m                       Traceback (most recent call last)",
      "Cell \u001b[1;32mIn[10], line 1\u001b[0m\n\u001b[1;32m----> 1\u001b[0m \u001b[39mfrom\u001b[39;00m \u001b[39mProcessor\u001b[39;00m\u001b[39m.\u001b[39;00m\u001b[39mInterface\u001b[39;00m \u001b[39mimport\u001b[39;00m Interface\n",
      "\u001b[1;31mModuleNotFoundError\u001b[0m: No module named 'Processor'"
     ]
    }
   ],
   "source": [
    "from Processor.Interface import Interface"
   ]
  },
  {
   "cell_type": "code",
   "execution_count": 2,
   "metadata": {},
   "outputs": [],
   "source": [
    "interface = Interface()"
   ]
  },
  {
   "cell_type": "code",
   "execution_count": 3,
   "metadata": {},
   "outputs": [
    {
     "name": "stdout",
     "output_type": "stream",
     "text": [
      "{'file_id': '20220328-102401_6623727904-all231', 'spliited_trans': [' Hello? Hello? Hi, this is Amy with American Senior Citizens Care. How are you doing today?', \" I'm five.\", ' Sorry to hear that. This call is about a new state regulated final expense.', ' Insurance Plan which covers 100% of your burial funerals.', ' or cremation expenses. It is specifically designed for the people on fixed income or social security. Would you like to learn more about...', ' Yes.', ' qualify you for the plan, are you between the age of 40 and 80? Yes. Are you capable enough to make your own financial decisions?', ' Yeah.', ' Great! Let me bring the state licensed product specialist on the line to share information with you. Please hold.'], 'full_transcript': \" Hello? Hello? Hi, this is Amy with American Senior Citizens Care. How are you doing today?  I'm five.  Sorry to hear that. This call is about a new state regulated final expense.  Insurance Plan which covers 100% of your burial funerals.  or cremation expenses. It is specifically designed for the people on fixed income or social security. Would you like to learn more about...  Yes.  qualify you for the plan, are you between the age of 40 and 80? Yes. Are you capable enough to make your own financial decisions?  Yeah.  Great! Let me bring the state licensed product specialist on the line to share information with you. Please hold.\", 'sequence_dict': 'hello, introduction, qualification, insuranceplan, decisionmaker, sorrytohearthat'}\n",
      "True Data Added successfully\n"
     ]
    }
   ],
   "source": [
    "interface.get_diarizer_response({\n",
    "        'file_id': '20220328-102401_6623727904-all231',\n",
    "        'SPEAKER_01_1': {'trascript': ' Hello? Hello? Hi, this is Amy with American Senior Citizens Care. How are you doing today?'},\n",
    "        'SPEAKER_00_1': {'trascript': \" I'm five.\"},\n",
    "        'SPEAKER_01_2': {'trascript': ' Sorry to hear that. This call is about a new state regulated final expense.'},\n",
    "        'SPEAKER_00_2': {'trascript': ' Insurance Plan which covers 100% of your burial funerals.'},\n",
    "        'SPEAKER_01_3': {'trascript': ' or cremation expenses. It is specifically designed for the people on fixed income or social security. Would you like to learn more about...'},\n",
    "        'SPEAKER_00_3': {'trascript': ' Yes.'},\n",
    "        'SPEAKER_01_4': {'trascript': ' qualify you for the plan, are you between the age of 40 and 80? Yes. Are you capable enough to make your own financial decisions?'},\n",
    "        'SPEAKER_00_4': {'trascript': ' Yeah.'},\n",
    "        'SPEAKER_01_5': {'trascript': ' Great! Let me bring the state licensed product specialist on the line to share information with you. Please hold.'}\n",
    "        })"
   ]
  },
  {
   "cell_type": "markdown",
   "metadata": {},
   "source": []
  },
  {
   "cell_type": "code",
   "execution_count": 3,
   "metadata": {},
   "outputs": [
    {
     "data": {
      "text/plain": [
       "[{'_id': ObjectId('64b122a416aec6ce88c77194'),\n",
       "  'file_id': '20220328-102401_6623727904-all231',\n",
       "  'spliited_trans': {'20220328-102401_6623727904-all231': [' Hello? Hello? Hi, this is Amy with American Senior Citizens Care. How are you doing today?',\n",
       "    \" I'm five.\",\n",
       "    ' Sorry to hear that. This call is about a new state regulated final expense.',\n",
       "    ' Insurance Plan which covers 100% of your burial funerals.',\n",
       "    ' or cremation expenses. It is specifically designed for the people on fixed income or social security. Would you like to learn more about...',\n",
       "    ' Yes.',\n",
       "    ' qualify you for the plan, are you between the age of 40 and 80? Yes. Are you capable enough to make your own financial decisions?',\n",
       "    ' Yeah.',\n",
       "    ' Great! Let me bring the state licensed product specialist on the line to share information with you. Please hold.']},\n",
       "  'full_transcript': {'20220328-102401_6623727904-all231': \" Hello? Hello? Hi, this is Amy with American Senior Citizens Care. How are you doing today?  I'm five.  Sorry to hear that. This call is about a new state regulated final expense.  Insurance Plan which covers 100% of your burial funerals.  or cremation expenses. It is specifically designed for the people on fixed income or social security. Would you like to learn more about...  Yes.  qualify you for the plan, are you between the age of 40 and 80? Yes. Are you capable enough to make your own financial decisions?  Yeah.  Great! Let me bring the state licensed product specialist on the line to share information with you. Please hold.\"},\n",
       "  'sequence_dict': {'20220328-102401_6623727904-all231': 'hello, introduction, qualification, insuranceplan, decisionmaker, sorrytohearthat'}},\n",
       " {'_id': ObjectId('64b12316478c16eca341bb5b'),\n",
       "  'file_id': '20220328-102401_6623727904-all231',\n",
       "  'spliited_trans': [' Hello? Hello? Hi, this is Amy with American Senior Citizens Care. How are you doing today?',\n",
       "   \" I'm five.\",\n",
       "   ' Sorry to hear that. This call is about a new state regulated final expense.',\n",
       "   ' Insurance Plan which covers 100% of your burial funerals.',\n",
       "   ' or cremation expenses. It is specifically designed for the people on fixed income or social security. Would you like to learn more about...',\n",
       "   ' Yes.',\n",
       "   ' qualify you for the plan, are you between the age of 40 and 80? Yes. Are you capable enough to make your own financial decisions?',\n",
       "   ' Yeah.',\n",
       "   ' Great! Let me bring the state licensed product specialist on the line to share information with you. Please hold.'],\n",
       "  'full_transcript': \" Hello? Hello? Hi, this is Amy with American Senior Citizens Care. How are you doing today?  I'm five.  Sorry to hear that. This call is about a new state regulated final expense.  Insurance Plan which covers 100% of your burial funerals.  or cremation expenses. It is specifically designed for the people on fixed income or social security. Would you like to learn more about...  Yes.  qualify you for the plan, are you between the age of 40 and 80? Yes. Are you capable enough to make your own financial decisions?  Yeah.  Great! Let me bring the state licensed product specialist on the line to share information with you. Please hold.\",\n",
       "  'sequence_dict': 'hello, introduction, qualification, insuranceplan, decisionmaker, sorrytohearthat'}]"
      ]
     },
     "execution_count": 3,
     "metadata": {},
     "output_type": "execute_result"
    }
   ],
   "source": [
    "interface.get_complete_data()"
   ]
  },
  {
   "cell_type": "code",
   "execution_count": 4,
   "metadata": {},
   "outputs": [
    {
     "data": {
      "text/plain": [
       "[{'_id': ObjectId('64b122a416aec6ce88c77194'),\n",
       "  'full_transcript': {'20220328-102401_6623727904-all231': \" Hello? Hello? Hi, this is Amy with American Senior Citizens Care. How are you doing today?  I'm five.  Sorry to hear that. This call is about a new state regulated final expense.  Insurance Plan which covers 100% of your burial funerals.  or cremation expenses. It is specifically designed for the people on fixed income or social security. Would you like to learn more about...  Yes.  qualify you for the plan, are you between the age of 40 and 80? Yes. Are you capable enough to make your own financial decisions?  Yeah.  Great! Let me bring the state licensed product specialist on the line to share information with you. Please hold.\"}},\n",
       " {'_id': ObjectId('64b12316478c16eca341bb5b'),\n",
       "  'full_transcript': \" Hello? Hello? Hi, this is Amy with American Senior Citizens Care. How are you doing today?  I'm five.  Sorry to hear that. This call is about a new state regulated final expense.  Insurance Plan which covers 100% of your burial funerals.  or cremation expenses. It is specifically designed for the people on fixed income or social security. Would you like to learn more about...  Yes.  qualify you for the plan, are you between the age of 40 and 80? Yes. Are you capable enough to make your own financial decisions?  Yeah.  Great! Let me bring the state licensed product specialist on the line to share information with you. Please hold.\"}]"
      ]
     },
     "execution_count": 4,
     "metadata": {},
     "output_type": "execute_result"
    }
   ],
   "source": [
    "interface.get_full_transripts()"
   ]
  },
  {
   "cell_type": "code",
   "execution_count": 5,
   "metadata": {},
   "outputs": [
    {
     "data": {
      "text/plain": [
       "[{'_id': ObjectId('64b122a416aec6ce88c77194'),\n",
       "  'spliited_trans': {'20220328-102401_6623727904-all231': [' Hello? Hello? Hi, this is Amy with American Senior Citizens Care. How are you doing today?',\n",
       "    \" I'm five.\",\n",
       "    ' Sorry to hear that. This call is about a new state regulated final expense.',\n",
       "    ' Insurance Plan which covers 100% of your burial funerals.',\n",
       "    ' or cremation expenses. It is specifically designed for the people on fixed income or social security. Would you like to learn more about...',\n",
       "    ' Yes.',\n",
       "    ' qualify you for the plan, are you between the age of 40 and 80? Yes. Are you capable enough to make your own financial decisions?',\n",
       "    ' Yeah.',\n",
       "    ' Great! Let me bring the state licensed product specialist on the line to share information with you. Please hold.']}},\n",
       " {'_id': ObjectId('64b12316478c16eca341bb5b'),\n",
       "  'spliited_trans': [' Hello? Hello? Hi, this is Amy with American Senior Citizens Care. How are you doing today?',\n",
       "   \" I'm five.\",\n",
       "   ' Sorry to hear that. This call is about a new state regulated final expense.',\n",
       "   ' Insurance Plan which covers 100% of your burial funerals.',\n",
       "   ' or cremation expenses. It is specifically designed for the people on fixed income or social security. Would you like to learn more about...',\n",
       "   ' Yes.',\n",
       "   ' qualify you for the plan, are you between the age of 40 and 80? Yes. Are you capable enough to make your own financial decisions?',\n",
       "   ' Yeah.',\n",
       "   ' Great! Let me bring the state licensed product specialist on the line to share information with you. Please hold.']}]"
      ]
     },
     "execution_count": 5,
     "metadata": {},
     "output_type": "execute_result"
    }
   ],
   "source": [
    "interface.get_splitted_transcripts()"
   ]
  },
  {
   "cell_type": "code",
   "execution_count": 6,
   "metadata": {},
   "outputs": [
    {
     "data": {
      "text/plain": [
       "[{'_id': ObjectId('64b122a416aec6ce88c77194'),\n",
       "  'sequence_dict': {'20220328-102401_6623727904-all231': 'hello, introduction, qualification, insuranceplan, decisionmaker, sorrytohearthat'}},\n",
       " {'_id': ObjectId('64b12316478c16eca341bb5b'),\n",
       "  'sequence_dict': 'hello, introduction, qualification, insuranceplan, decisionmaker, sorrytohearthat'}]"
      ]
     },
     "execution_count": 6,
     "metadata": {},
     "output_type": "execute_result"
    }
   ],
   "source": [
    "interface.get_sequences()"
   ]
  },
  {
   "cell_type": "code",
   "execution_count": 7,
   "metadata": {},
   "outputs": [
    {
     "data": {
      "text/plain": [
       "[{'_id': ObjectId('64b122a416aec6ce88c77194'),\n",
       "  'file_id': '20220328-102401_6623727904-all231',\n",
       "  'spliited_trans': {'20220328-102401_6623727904-all231': [' Hello? Hello? Hi, this is Amy with American Senior Citizens Care. How are you doing today?',\n",
       "    \" I'm five.\",\n",
       "    ' Sorry to hear that. This call is about a new state regulated final expense.',\n",
       "    ' Insurance Plan which covers 100% of your burial funerals.',\n",
       "    ' or cremation expenses. It is specifically designed for the people on fixed income or social security. Would you like to learn more about...',\n",
       "    ' Yes.',\n",
       "    ' qualify you for the plan, are you between the age of 40 and 80? Yes. Are you capable enough to make your own financial decisions?',\n",
       "    ' Yeah.',\n",
       "    ' Great! Let me bring the state licensed product specialist on the line to share information with you. Please hold.']},\n",
       "  'full_transcript': {'20220328-102401_6623727904-all231': \" Hello? Hello? Hi, this is Amy with American Senior Citizens Care. How are you doing today?  I'm five.  Sorry to hear that. This call is about a new state regulated final expense.  Insurance Plan which covers 100% of your burial funerals.  or cremation expenses. It is specifically designed for the people on fixed income or social security. Would you like to learn more about...  Yes.  qualify you for the plan, are you between the age of 40 and 80? Yes. Are you capable enough to make your own financial decisions?  Yeah.  Great! Let me bring the state licensed product specialist on the line to share information with you. Please hold.\"},\n",
       "  'sequence_dict': {'20220328-102401_6623727904-all231': 'hello, introduction, qualification, insuranceplan, decisionmaker, sorrytohearthat'}},\n",
       " {'_id': ObjectId('64b12316478c16eca341bb5b'),\n",
       "  'file_id': '20220328-102401_6623727904-all231',\n",
       "  'spliited_trans': [' Hello? Hello? Hi, this is Amy with American Senior Citizens Care. How are you doing today?',\n",
       "   \" I'm five.\",\n",
       "   ' Sorry to hear that. This call is about a new state regulated final expense.',\n",
       "   ' Insurance Plan which covers 100% of your burial funerals.',\n",
       "   ' or cremation expenses. It is specifically designed for the people on fixed income or social security. Would you like to learn more about...',\n",
       "   ' Yes.',\n",
       "   ' qualify you for the plan, are you between the age of 40 and 80? Yes. Are you capable enough to make your own financial decisions?',\n",
       "   ' Yeah.',\n",
       "   ' Great! Let me bring the state licensed product specialist on the line to share information with you. Please hold.'],\n",
       "  'full_transcript': \" Hello? Hello? Hi, this is Amy with American Senior Citizens Care. How are you doing today?  I'm five.  Sorry to hear that. This call is about a new state regulated final expense.  Insurance Plan which covers 100% of your burial funerals.  or cremation expenses. It is specifically designed for the people on fixed income or social security. Would you like to learn more about...  Yes.  qualify you for the plan, are you between the age of 40 and 80? Yes. Are you capable enough to make your own financial decisions?  Yeah.  Great! Let me bring the state licensed product specialist on the line to share information with you. Please hold.\",\n",
       "  'sequence_dict': 'hello, introduction, qualification, insuranceplan, decisionmaker, sorrytohearthat'}]"
      ]
     },
     "execution_count": 7,
     "metadata": {},
     "output_type": "execute_result"
    }
   ],
   "source": [
    "interface.get_particular_data('20220328-102401_6623727904-all231')"
   ]
  },
  {
   "cell_type": "code",
   "execution_count": 1,
   "metadata": {},
   "outputs": [],
   "source": [
    "import pandas as pd"
   ]
  },
  {
   "cell_type": "code",
   "execution_count": 2,
   "metadata": {},
   "outputs": [],
   "source": [
    "df = pd.DataFrame({'class':['Xfer','AN','SF']})"
   ]
  },
  {
   "cell_type": "code",
   "execution_count": 7,
   "metadata": {},
   "outputs": [
    {
     "data": {
      "text/plain": [
       "['Xfer', 'AN', 'SF']"
      ]
     },
     "execution_count": 7,
     "metadata": {},
     "output_type": "execute_result"
    }
   ],
   "source": [
    "list(df['class'].value_counts().keys())"
   ]
  },
  {
   "cell_type": "code",
   "execution_count": null,
   "metadata": {},
   "outputs": [],
   "source": []
  }
 ],
 "metadata": {
  "kernelspec": {
   "display_name": "call_analytics",
   "language": "python",
   "name": "python3"
  },
  "language_info": {
   "codemirror_mode": {
    "name": "ipython",
    "version": 3
   },
   "file_extension": ".py",
   "mimetype": "text/x-python",
   "name": "python",
   "nbconvert_exporter": "python",
   "pygments_lexer": "ipython3",
   "version": "3.11.4"
  },
  "orig_nbformat": 4
 },
 "nbformat": 4,
 "nbformat_minor": 2
}
