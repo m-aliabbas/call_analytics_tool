{
 "cells": [
  {
   "cell_type": "code",
   "execution_count": 1,
   "metadata": {},
   "outputs": [],
   "source": [
    "from LogProcessor import LogAnalytics\n",
    "from Mongo_DB import Mongo_DB\n",
    "import requests\n",
    "import json\n",
    "import os\n",
    "import pandas as pd"
   ]
  },
  {
   "cell_type": "code",
   "execution_count": 42,
   "metadata": {},
   "outputs": [],
   "source": [
    "class LogInterface:\n",
    "    def __init__(self,):\n",
    "        self.log_processor = LogAnalytics()\n",
    "        self.DB = Mongo_DB(address='mongodb://localhost:27017/',\n",
    "                 db_name='call_analytics_tool',\n",
    "                 collection_name='log_record',)\n",
    "\n",
    "    def insert_to_db(self,file_name):\n",
    "        data = self.log_processor.driver(files_name=file_name)\n",
    "        file_id = data[\"file_id\"]\n",
    "        # print(data)\n",
    "        if  self.DB.check_if_exists(file_id=file_id):\n",
    "            print('Already Exists')\n",
    "            return True, 'Data  already exists'\n",
    "        else:\n",
    "            temp_=self.DB.insert(data=data)\n",
    "            if temp_:\n",
    "                print('Inserted')\n",
    "                return True, 'Data Added successfully'\n",
    "            else:\n",
    "                print('Error')\n",
    "                return False,'Something went wrong'\n",
    "    \n",
    "    def get_complete_data(self,):\n",
    "        data = self.DB.find()\n",
    "        # print(data)\n",
    "        return data\n",
    "\n",
    "    def get_particular_data(self,file_id):\n",
    "        data = self.DB.find({'file_id':file_id})\n",
    "        return data\n",
    "    \n",
    "    # in sary functions me mongo db se data lena he ; us data k none ai responsis wali key me jana he; us ki frequency k lie aik df bnaien us se asain hojae gi; df[TEct col].value_counts ; or dobra dictionary bna k return krni he anwar ko \n",
    "    def get_none_responsis_pharase_freq(self):\n",
    "        data = self.DB.find({},['AI None Separater','file_id'])\n",
    "        df = pd.DataFrame(data)\n",
    "        file_id  = df['file_id'][0]\n",
    "        frequency = len(df['AI None Separater'][0][file_id])\n",
    "        dict_freq = {}\n",
    "        dict_freq[file_id] = frequency\n",
    "        return dict_freq\n",
    "        \n",
    "        \n",
    "    def get_none_responis_word_freq(self):\n",
    "        pass\n",
    "\n",
    "    def get_none_bot_hanged_up(self):\n",
    "        pass\n"
   ]
  },
  {
   "cell_type": "code",
   "execution_count": 43,
   "metadata": {},
   "outputs": [
    {
     "name": "stdout",
     "output_type": "stream",
     "text": [
      "file not found: 7C-D3-0A-1A-C3-56_1676588618.txt\n",
      "0\n"
     ]
    },
    {
     "ename": "NameError",
     "evalue": "name 'file_name' is not defined",
     "output_type": "error",
     "traceback": [
      "\u001b[1;31m---------------------------------------------------------------------------\u001b[0m",
      "\u001b[1;31mNameError\u001b[0m                                 Traceback (most recent call last)",
      "Cell \u001b[1;32mIn[43], line 3\u001b[0m\n\u001b[0;32m      1\u001b[0m logsinterface \u001b[39m=\u001b[39m LogInterface()\n\u001b[0;32m      2\u001b[0m files_name \u001b[39m=\u001b[39m [\u001b[39m\"\u001b[39m\u001b[39m7C-D3-0A-1A-C3-56_1676588618.txt\u001b[39m\u001b[39m\"\u001b[39m]\n\u001b[1;32m----> 3\u001b[0m logsinterface\u001b[39m.\u001b[39;49minsert_to_db(files_name)\n\u001b[0;32m      4\u001b[0m \u001b[39m# logsinterface.get_none_responsis_pharase_freq()\u001b[39;00m\n",
      "Cell \u001b[1;32mIn[42], line 9\u001b[0m, in \u001b[0;36mLogInterface.insert_to_db\u001b[1;34m(self, file_name)\u001b[0m\n\u001b[0;32m      8\u001b[0m \u001b[39mdef\u001b[39;00m \u001b[39minsert_to_db\u001b[39m(\u001b[39mself\u001b[39m,file_name):\n\u001b[1;32m----> 9\u001b[0m     data \u001b[39m=\u001b[39m \u001b[39mself\u001b[39;49m\u001b[39m.\u001b[39;49mlog_processor\u001b[39m.\u001b[39;49mdriver(files_name\u001b[39m=\u001b[39;49mfile_name)\n\u001b[0;32m     10\u001b[0m     file_id \u001b[39m=\u001b[39m data[\u001b[39m\"\u001b[39m\u001b[39mfile_id\u001b[39m\u001b[39m\"\u001b[39m]\n\u001b[0;32m     11\u001b[0m     \u001b[39m# print(data)\u001b[39;00m\n",
      "File \u001b[1;32me:\\Python Practice\\call_analytics_tool\\exp_notebooks\\LogProcessor.py:325\u001b[0m, in \u001b[0;36mLogAnalytics.driver\u001b[1;34m(self, files_name)\u001b[0m\n\u001b[0;32m    323\u001b[0m \u001b[39mself\u001b[39m\u001b[39m.\u001b[39mcountClass(class_name)\n\u001b[0;32m    324\u001b[0m \u001b[39mself\u001b[39m\u001b[39m.\u001b[39mcountMostUsedPharses()\n\u001b[1;32m--> 325\u001b[0m \u001b[39mself\u001b[39;49m\u001b[39m.\u001b[39;49mnone_separator_1()\n\u001b[0;32m    326\u001b[0m \u001b[39mself\u001b[39m\u001b[39m.\u001b[39mnone_separator_2()\n\u001b[0;32m    327\u001b[0m \u001b[39mself\u001b[39m\u001b[39m.\u001b[39mnumberData()\n",
      "File \u001b[1;32me:\\Python Practice\\call_analytics_tool\\exp_notebooks\\LogProcessor.py:234\u001b[0m, in \u001b[0;36mLogAnalytics.none_separator_1\u001b[1;34m(self)\u001b[0m\n\u001b[0;32m    229\u001b[0m     \u001b[39m# st.dataframe(df)\u001b[39;00m\n\u001b[0;32m    230\u001b[0m     \u001b[39m# df = df.dropna()\u001b[39;00m\n\u001b[0;32m    231\u001b[0m     \u001b[39m# df.to_csv(f'{file_name[:-4]}_processed.csv', index=False)\u001b[39;00m\n\u001b[0;32m    232\u001b[0m \u001b[39melse\u001b[39;00m:\n\u001b[0;32m    233\u001b[0m     \u001b[39mself\u001b[39m\u001b[39m.\u001b[39mdf_temp \u001b[39m=\u001b[39m pd\u001b[39m.\u001b[39mDataFrame()\n\u001b[1;32m--> 234\u001b[0m     \u001b[39mprint\u001b[39m(\u001b[39mf\u001b[39m\u001b[39m\"\u001b[39m\u001b[39mNo results found in \u001b[39m\u001b[39m{\u001b[39;00mfile_name\u001b[39m}\u001b[39;00m\u001b[39m\"\u001b[39m)\n",
      "\u001b[1;31mNameError\u001b[0m: name 'file_name' is not defined"
     ]
    }
   ],
   "source": [
    "logsinterface = LogInterface()\n",
    "files_name = [\"7C-D3-0A-1A-C3-56_1676588618.txt\"]\n",
    "logsinterface.insert_to_db(files_name)\n",
    "# logsinterface.get_none_responsis_pharase_freq()"
   ]
  },
  {
   "cell_type": "code",
   "execution_count": null,
   "metadata": {},
   "outputs": [],
   "source": []
  }
 ],
 "metadata": {
  "kernelspec": {
   "display_name": "call_analytics",
   "language": "python",
   "name": "python3"
  },
  "language_info": {
   "codemirror_mode": {
    "name": "ipython",
    "version": 3
   },
   "file_extension": ".py",
   "mimetype": "text/x-python",
   "name": "python",
   "nbconvert_exporter": "python",
   "pygments_lexer": "ipython3",
   "version": "3.11.4"
  },
  "orig_nbformat": 4
 },
 "nbformat": 4,
 "nbformat_minor": 2
}
