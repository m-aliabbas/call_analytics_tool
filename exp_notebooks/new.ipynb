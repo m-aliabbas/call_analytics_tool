{
 "cells": [
  {
   "cell_type": "code",
   "execution_count": 1,
   "metadata": {},
   "outputs": [],
   "source": [
    "from LogProcessor import LogAnalytics\n",
    "from Mongo_DB import Mongo_DB\n",
    "import requests\n",
    "import json\n",
    "import os\n",
    "import pandas as pd\n",
    "import sys"
   ]
  },
  {
   "cell_type": "code",
   "execution_count": 40,
   "metadata": {},
   "outputs": [],
   "source": [
    "class LogInterface:\n",
    "    def __init__(self,):\n",
    "        self.log_processor = LogAnalytics()\n",
    "        self.DB = Mongo_DB(address='mongodb://localhost:27017/',\n",
    "                 db_name='call_analytics_tool',\n",
    "                 collection_name='log_record',)\n",
    "\n",
    "    def insert_to_db(self,file_name):\n",
    "        data = self.log_processor.driver(files_name=file_name)\n",
    "        file_id = data[\"file_id\"]\n",
    "        # print(data)\n",
    "        if  self.DB.check_if_exists(file_id=file_id):\n",
    "            print('Already Exists')\n",
    "            return True, 'Data  already exists'\n",
    "        else:\n",
    "            temp_=self.DB.insert(data=data)\n",
    "            if temp_:\n",
    "                print('Inserted')\n",
    "                return True, 'Data Added successfully'\n",
    "            else:\n",
    "                print('Error')\n",
    "                return False,'Something went wrong'\n",
    "    \n",
    "    def get_complete_data(self,):\n",
    "        data = self.DB.find()\n",
    "        # print(data)\n",
    "        return data\n",
    "\n",
    "    def get_particular_data(self,file_id):\n",
    "        data = self.DB.find({'file_id':file_id})\n",
    "        return data\n",
    "    \n",
    "    # in sary functions me mongo db se data lena he ; us data k none ai responsis wali key me jana he; us ki frequency k lie aik df bnaien us se asain hojae gi; df[TEct col].value_counts ; or dobra dictionary bna k return krni he anwar ko \n",
    "    def get_none_responsis_pharase_freq(self):\n",
    "        data = self.DB.find({},['AI None Separater','file_id'])\n",
    "        df = pd.DataFrame(data)\n",
    "        file_id  = df['file_id'][0]\n",
    "        frequency = len(df['AI None Separater'][0][file_id])\n",
    "        dict_freq = {}\n",
    "        dict_freq[file_id] = frequency\n",
    "        return dict_freq\n",
    "        \n",
    "        \n",
    "    def get_none_responis_word_freq(self):\n",
    "        pass\n",
    "\n",
    "    def get_none_bot_hanged_up(self):\n",
    "        pass\n"
   ]
  },
  {
   "cell_type": "code",
   "execution_count": 41,
   "metadata": {},
   "outputs": [
    {
     "data": {
      "text/plain": [
       "{'7C-D3-0A-1A-C3-C4_1676679530.txt': 1275}"
      ]
     },
     "execution_count": 41,
     "metadata": {},
     "output_type": "execute_result"
    }
   ],
   "source": [
    "logsinterface = LogInterface()\n",
    "logsinterface.get_none_responsis_pharase_freq()"
   ]
  },
  {
   "cell_type": "code",
   "execution_count": null,
   "metadata": {},
   "outputs": [],
   "source": []
  }
 ],
 "metadata": {
  "kernelspec": {
   "display_name": "call_analytics",
   "language": "python",
   "name": "python3"
  },
  "language_info": {
   "codemirror_mode": {
    "name": "ipython",
    "version": 3
   },
   "file_extension": ".py",
   "mimetype": "text/x-python",
   "name": "python",
   "nbconvert_exporter": "python",
   "pygments_lexer": "ipython3",
   "version": "3.11.4"
  },
  "orig_nbformat": 4
 },
 "nbformat": 4,
 "nbformat_minor": 2
}
