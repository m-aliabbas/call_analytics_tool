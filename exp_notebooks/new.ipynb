{
 "cells": [
  {
   "cell_type": "code",
   "execution_count": 39,
   "metadata": {},
   "outputs": [],
   "source": [
    "from CallProcessor import CallProcessor\n",
    "import pandas as pd\n",
    "from utils import extract_phrases,jsonify\n",
    "from Mongo_DB import Mongo_DB\n",
    "from collections import Counter\n",
    "import requests\n",
    "import json\n",
    "import os\n",
    "import re\n",
    "import string\n",
    "from collections import defaultdict"
   ]
  },
  {
   "cell_type": "code",
   "execution_count": 45,
   "metadata": {},
   "outputs": [
    {
     "data": {
      "text/plain": [
       "{' Hi this is Ella with American Senior Citizens Care How are you doing today': 3,\n",
       " ' Okay Okay This call is about a new state regulated final expense insurance plan which covers 100 of your burial funeral or cremation expenses It is specifically designed for the people on fixed income or social security Would you like to learn more about it Yes': 3,\n",
       " ' May I ask how old are you So Nicole Are you capable enough to make your own financial decisions Yes Great Let me bring the state licensed product specialists on the line to share information with you Okay Okay': 3,\n",
       " ' to face internally and SEC Northwest': 1,\n",
       " ' Hello my name is Ducky from New York How are you today': 1}"
      ]
     },
     "execution_count": 45,
     "metadata": {},
     "output_type": "execute_result"
    }
   ],
   "source": [
    "class Interface:\n",
    "    def __init__(self,keyword_file='insurance.json'):\n",
    "        df_dict = pd.read_json(keyword_file).to_dict()\n",
    "        keywords = extract_phrases(df_dict)\n",
    "        self.call_processor = CallProcessor(keywords=keywords)\n",
    "        # self.DB = Mongo_DB() # paramaeters are inserted in Construct\n",
    "        self.DB = Mongo_DB(address='mongodb://localhost:27017/',\n",
    "                 db_name='call_analytics_tool',\n",
    "                 collection_name='call_record5',)\n",
    "        \n",
    "    def get_most_common(self):\n",
    "        data = self.DB.find({},['spliited_trans'])\n",
    "     \n",
    "        # Initialize an empty list to store all cleaned phrases\n",
    "        all_phrases = []\n",
    "\n",
    "        # Loop through each entry in the data list to collect all phrases\n",
    "        for entry in data:\n",
    "            for key in entry['spliited_trans']['splitted_transcript']:\n",
    "                phrases = entry['spliited_trans']['splitted_transcript'][key]\n",
    "                for phrase in phrases:\n",
    "                    all_phrases.append(phrase)\n",
    "\n",
    "        # Clean up each phrase by removing special characters and Filter out phrases with less than 4 words\n",
    "        cleaned_phrases = []\n",
    "        for phrase in all_phrases:\n",
    "            if len(phrase.split()) >= 4:\n",
    "                clean_phrase = re.sub(r'[^a-zA-Z0-9\\s]', '', phrase)\n",
    "                cleaned_phrases.append(clean_phrase)\n",
    "\n",
    "        # Count occurrences of each phrase\n",
    "        phrase_counts = Counter(cleaned_phrases)\n",
    "\n",
    "        # Sort phrases by their counts\n",
    "        sorted_phrases = sorted(phrase_counts.items(), key=lambda x: x[1], reverse=True)\n",
    "\n",
    "        # Extract only the top 5 phrases\n",
    "        result = dict(sorted_phrases[:5])\n",
    "\n",
    "        return result\n",
    "\n",
    "\n",
    "interface = Interface()\n",
    "interface.get_complete_data()"
   ]
  },
  {
   "cell_type": "code",
   "execution_count": null,
   "metadata": {},
   "outputs": [],
   "source": []
  }
 ],
 "metadata": {
  "kernelspec": {
   "display_name": "call_analytics",
   "language": "python",
   "name": "python3"
  },
  "language_info": {
   "codemirror_mode": {
    "name": "ipython",
    "version": 3
   },
   "file_extension": ".py",
   "mimetype": "text/x-python",
   "name": "python",
   "nbconvert_exporter": "python",
   "pygments_lexer": "ipython3",
   "version": "3.10.8"
  },
  "orig_nbformat": 4
 },
 "nbformat": 4,
 "nbformat_minor": 2
}
