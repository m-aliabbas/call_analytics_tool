{
 "cells": [
  {
   "cell_type": "code",
   "execution_count": 2,
   "metadata": {},
   "outputs": [],
   "source": [
    "import requests"
   ]
  },
  {
   "cell_type": "code",
   "execution_count": 3,
   "metadata": {},
   "outputs": [
    {
     "name": "stdout",
     "output_type": "stream",
     "text": [
      "File uploaded successfully.\n"
     ]
    }
   ],
   "source": [
    "import requests\n",
    "\n",
    "# Specify the URL of the FastAPI server\n",
    "url = 'http://110.93.240.107:8080/uploadfile/'\n",
    "\n",
    "# Path to the file you want to send\n",
    "file_path = '20230327-111634_2604932708-all.wav'\n",
    "\n",
    "# Create a dictionary with the file data\n",
    "files = {'file': (file_path, open(file_path, 'rb'), 'audio/wav')}\n",
    "\n",
    "# Send a POST request to the FastAPI server with the file data\n",
    "response = requests.post(url, files=files)\n",
    "\n",
    "# Check the response\n",
    "if response.status_code == 200:\n",
    "    print('File uploaded successfully.')\n",
    "else:\n",
    "    print('Error occurred while uploading the file:', response.text)"
   ]
  },
  {
   "cell_type": "code",
   "execution_count": 4,
   "metadata": {},
   "outputs": [],
   "source": [
    "import json"
   ]
  },
  {
   "cell_type": "code",
   "execution_count": 5,
   "metadata": {},
   "outputs": [],
   "source": [
    "def get_diarizer_server_response(file_path):\n",
    "    # Specify the URL of the FastAPI server\n",
    "    url = 'http://110.93.240.107:8080/uploadfile/'\n",
    "    files = {'file': (file_path, open(file_path, 'rb'), 'audio/wav')}\n",
    "\n",
    "    # Send a POST request to the FastAPI server with the file data\n",
    "    response = requests.post(url, files=files)\n",
    "\n",
    "    # Check the response\n",
    "    if response.status_code == 200:\n",
    "        print('File uploaded successfully.')\n",
    "        resp_json = json.loads(response.text)\n",
    "        return True,resp_json\n",
    "    else:\n",
    "        print('Error occurred while uploading the file:', response.text)\n",
    "        return False,{}"
   ]
  },
  {
   "cell_type": "code",
   "execution_count": 6,
   "metadata": {},
   "outputs": [
    {
     "name": "stdout",
     "output_type": "stream",
     "text": [
      "File uploaded successfully.\n"
     ]
    }
   ],
   "source": [
    "status,resp=get_diarizer_server_response(file_path='20220830-134129_27843595-all.wav')"
   ]
  },
  {
   "cell_type": "code",
   "execution_count": 7,
   "metadata": {},
   "outputs": [
    {
     "data": {
      "text/plain": [
       "{'status': True,\n",
       " 'msg': {'file_id': '20220830-134129_27843595-all',\n",
       "  'SPEAKER_00_1': {'trascript': ' Hello?'},\n",
       "  'SPEAKER_01_1': {'trascript': ' Hello?'},\n",
       "  'SPEAKER_00_2': {'trascript': ' Hi, this is Ella with American Senior Citizens Care. How are you doing today?'},\n",
       "  'SPEAKER_01_2': {'trascript': ' today.'},\n",
       "  'SPEAKER_00_3': {'trascript': ' Okay. Okay. This call is about a new state regulated final expense insurance plan which covers 100% of your burial, funeral or cremation expenses. It is specifically designed for the people on fixed income or social security. Would you like to learn more about it? Yes.'},\n",
       "  'SPEAKER_01_3': {'trascript': ' Please stay full and hands broad.'},\n",
       "  'SPEAKER_00_4': {'trascript': ' May I ask how old are you? So, Nicole. Are you capable enough to make your own financial decisions? Yes. Great. Let me bring the state licensed product specialists on the line to share information with you. Okay? Okay.'}}}"
      ]
     },
     "execution_count": 7,
     "metadata": {},
     "output_type": "execute_result"
    }
   ],
   "source": [
    "resp"
   ]
  },
  {
   "cell_type": "code",
   "execution_count": null,
   "metadata": {},
   "outputs": [],
   "source": []
  }
 ],
 "metadata": {
  "kernelspec": {
   "display_name": "call_analytics",
   "language": "python",
   "name": "python3"
  },
  "language_info": {
   "codemirror_mode": {
    "name": "ipython",
    "version": 3
   },
   "file_extension": ".py",
   "mimetype": "text/x-python",
   "name": "python",
   "nbconvert_exporter": "python",
   "pygments_lexer": "ipython3",
   "version": "3.11.4"
  },
  "orig_nbformat": 4
 },
 "nbformat": 4,
 "nbformat_minor": 2
}
