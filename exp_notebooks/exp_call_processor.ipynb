{
 "cells": [
  {
   "cell_type": "code",
   "execution_count": 1,
   "metadata": {},
   "outputs": [],
   "source": [
    "import pandas as pd"
   ]
  },
  {
   "cell_type": "code",
   "execution_count": 2,
   "metadata": {},
   "outputs": [],
   "source": [
    "my_dict = {\"Hello\":\"ello\", \"Introduction\":\"how are you doing today\", \"Qualification\":\"qualif\", \"insuranceplan\":\"call is about a new state\",\"decisionmaker\":\"are you capable enough\", \"iamdoinggreat\":\"i am doing great thanks for asking\", \"canyouhearme\":\"can you hear me\", \"sorrytohearthat\":\"sorry to hear that\", \"saythatagainplease\": \"say that again please\", \"transfer\":\"great let me bring the state\", \"notinterested\":\"i completely understand that but these new affordable\", \"busy\":\"i understand but it is not gonna take much time\", \"whereareyoulocated\":\"well we have different offices\", \"howmuchdoesitcost\":\"well that is a good question let me bring on the line my product specialist\", \"age\":\"may i ask how old are you\", \"alreadyhaveinsurance\":\"its great that you're thinking\", \"agecriteria\":\"between the age of 40 and 80 can qualify\", \"transfer2\":\"i can bring my product specialist on the line\"}"
   ]
  },
  {
   "cell_type": "code",
   "execution_count": 3,
   "metadata": {},
   "outputs": [],
   "source": [
    "df =pd.DataFrame(my_dict, index=[len(my_dict)])"
   ]
  },
  {
   "cell_type": "code",
   "execution_count": 22,
   "metadata": {},
   "outputs": [],
   "source": [
    "def extract_phrases(input_dict):\n",
    "    output_dict = {}\n",
    "    for key, value in input_dict.items():\n",
    "        inner_key = next(iter(value))\n",
    "        output_dict[key] = value[inner_key]\n",
    "    return output_dict"
   ]
  },
  {
   "cell_type": "code",
   "execution_count": 23,
   "metadata": {},
   "outputs": [
    {
     "data": {
      "text/plain": [
       "{'Hello': 'ello',\n",
       " 'Introduction': 'how are you doing today',\n",
       " 'Qualification': 'qualif',\n",
       " 'insuranceplan': 'call is about a new state',\n",
       " 'decisionmaker': 'are you capable enough',\n",
       " 'iamdoinggreat': 'i am doing great thanks for asking',\n",
       " 'canyouhearme': 'can you hear me',\n",
       " 'sorrytohearthat': 'sorry to hear that',\n",
       " 'saythatagainplease': 'say that again please',\n",
       " 'transfer': 'great let me bring the state',\n",
       " 'notinterested': 'i completely understand that but these new affordable',\n",
       " 'busy': 'i understand but it is not gonna take much time',\n",
       " 'whereareyoulocated': 'well we have different offices',\n",
       " 'howmuchdoesitcost': 'well that is a good question let me bring on the line my product specialist',\n",
       " 'age': 'may i ask how old are you',\n",
       " 'alreadyhaveinsurance': \"its great that you're thinking\",\n",
       " 'agecriteria': 'between the age of 40 and 80 can qualify',\n",
       " 'transfer2': 'i can bring my product specialist on the line'}"
      ]
     },
     "execution_count": 23,
     "metadata": {},
     "output_type": "execute_result"
    }
   ],
   "source": [
    "extract_phrases(a)"
   ]
  },
  {
   "cell_type": "code",
   "execution_count": null,
   "metadata": {},
   "outputs": [],
   "source": []
  }
 ],
 "metadata": {
  "kernelspec": {
   "display_name": "pytorch2",
   "language": "python",
   "name": "python3"
  },
  "language_info": {
   "codemirror_mode": {
    "name": "ipython",
    "version": 3
   },
   "file_extension": ".py",
   "mimetype": "text/x-python",
   "name": "python",
   "nbconvert_exporter": "python",
   "pygments_lexer": "ipython3",
   "version": "3.11.4"
  },
  "orig_nbformat": 4
 },
 "nbformat": 4,
 "nbformat_minor": 2
}
