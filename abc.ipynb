{
 "cells": [
  {
   "cell_type": "code",
   "execution_count": 1,
   "metadata": {},
   "outputs": [],
   "source": [
    "import pandas as pd"
   ]
  },
  {
   "cell_type": "code",
   "execution_count": 4,
   "metadata": {},
   "outputs": [],
   "source": [
    "df = pd.read_csv('7C-D3-0A-1A-D3-CF_1676509884_processed.csv')"
   ]
  },
  {
   "cell_type": "code",
   "execution_count": 9,
   "metadata": {},
   "outputs": [
    {
     "data": {
      "text/html": [
       "<div>\n",
       "<style scoped>\n",
       "    .dataframe tbody tr th:only-of-type {\n",
       "        vertical-align: middle;\n",
       "    }\n",
       "\n",
       "    .dataframe tbody tr th {\n",
       "        vertical-align: top;\n",
       "    }\n",
       "\n",
       "    .dataframe thead th {\n",
       "        text-align: right;\n",
       "    }\n",
       "</style>\n",
       "<table border=\"1\" class=\"dataframe\">\n",
       "  <thead>\n",
       "    <tr style=\"text-align: right;\">\n",
       "      <th></th>\n",
       "      <th>Phone Number</th>\n",
       "      <th>AI bot got this data</th>\n",
       "      <th>AI bot level</th>\n",
       "      <th>Next State</th>\n",
       "    </tr>\n",
       "  </thead>\n",
       "  <tbody>\n",
       "    <tr>\n",
       "      <th>0</th>\n",
       "      <td>(209)394-7514</td>\n",
       "      <td>hello this is not a very day shipping how can ...</td>\n",
       "      <td>AI bot level= 1 : None</td>\n",
       "      <td>['Caller Hanged Up', 'No Answer']</td>\n",
       "    </tr>\n",
       "    <tr>\n",
       "      <th>1</th>\n",
       "      <td>(801)903-0253</td>\n",
       "      <td>what do you are now</td>\n",
       "      <td>AI bot level= 1 : None</td>\n",
       "      <td>['Hang Up']</td>\n",
       "    </tr>\n",
       "    <tr>\n",
       "      <th>2</th>\n",
       "      <td>(318)201-1895</td>\n",
       "      <td>romero</td>\n",
       "      <td>AI bot level= 1 : None</td>\n",
       "      <td>['Caller Hanged Up', 'No Answer']</td>\n",
       "    </tr>\n",
       "    <tr>\n",
       "      <th>3</th>\n",
       "      <td>(385)495-5754</td>\n",
       "      <td>yeah</td>\n",
       "      <td>AI bot level= 1 : None</td>\n",
       "      <td>['Hang Up']</td>\n",
       "    </tr>\n",
       "    <tr>\n",
       "      <th>4</th>\n",
       "      <td>(626)672-0248</td>\n",
       "      <td>hello</td>\n",
       "      <td>AI bot level= 1 : None</td>\n",
       "      <td>['Caller Hanged Up', 'No Answer']</td>\n",
       "    </tr>\n",
       "    <tr>\n",
       "      <th>...</th>\n",
       "      <td>...</td>\n",
       "      <td>...</td>\n",
       "      <td>...</td>\n",
       "      <td>...</td>\n",
       "    </tr>\n",
       "    <tr>\n",
       "      <th>756</th>\n",
       "      <td>(308)745-1011</td>\n",
       "      <td>all that bad</td>\n",
       "      <td>AI bot level= 1 : None</td>\n",
       "      <td>['Not Interested', 'Hang Up']</td>\n",
       "    </tr>\n",
       "    <tr>\n",
       "      <th>757</th>\n",
       "      <td>(717)789-3584</td>\n",
       "      <td>oh</td>\n",
       "      <td>AI bot level= 1 : None</td>\n",
       "      <td>['Positive', 'No Answer', 'Caller Hanged Up']</td>\n",
       "    </tr>\n",
       "    <tr>\n",
       "      <th>758</th>\n",
       "      <td>(806)592-8144</td>\n",
       "      <td>yeah</td>\n",
       "      <td>AI bot level= 1 : None</td>\n",
       "      <td>['Not Interested', 'Positive', 'Transfer']</td>\n",
       "    </tr>\n",
       "    <tr>\n",
       "      <th>759</th>\n",
       "      <td>(806)592-8144</td>\n",
       "      <td>yeah</td>\n",
       "      <td>AI bot level= 1 : None</td>\n",
       "      <td>['Not Interested', 'Positive', 'Transfer']</td>\n",
       "    </tr>\n",
       "    <tr>\n",
       "      <th>760</th>\n",
       "      <td>(806)592-8144</td>\n",
       "      <td>wow</td>\n",
       "      <td>AI bot level= 1 : None</td>\n",
       "      <td>['Positive', 'Transfer']</td>\n",
       "    </tr>\n",
       "  </tbody>\n",
       "</table>\n",
       "<p>761 rows × 4 columns</p>\n",
       "</div>"
      ],
      "text/plain": [
       "      Phone Number                               AI bot got this data  \\\n",
       "0    (209)394-7514  hello this is not a very day shipping how can ...   \n",
       "1    (801)903-0253                                what do you are now   \n",
       "2    (318)201-1895                                             romero   \n",
       "3    (385)495-5754                                               yeah   \n",
       "4    (626)672-0248                                              hello   \n",
       "..             ...                                                ...   \n",
       "756  (308)745-1011                                       all that bad   \n",
       "757  (717)789-3584                                                 oh   \n",
       "758  (806)592-8144                                               yeah   \n",
       "759  (806)592-8144                                               yeah   \n",
       "760  (806)592-8144                                                wow   \n",
       "\n",
       "               AI bot level                                     Next State  \n",
       "0    AI bot level= 1 : None              ['Caller Hanged Up', 'No Answer']  \n",
       "1    AI bot level= 1 : None                                    ['Hang Up']  \n",
       "2    AI bot level= 1 : None              ['Caller Hanged Up', 'No Answer']  \n",
       "3    AI bot level= 1 : None                                    ['Hang Up']  \n",
       "4    AI bot level= 1 : None              ['Caller Hanged Up', 'No Answer']  \n",
       "..                      ...                                            ...  \n",
       "756  AI bot level= 1 : None                  ['Not Interested', 'Hang Up']  \n",
       "757  AI bot level= 1 : None  ['Positive', 'No Answer', 'Caller Hanged Up']  \n",
       "758  AI bot level= 1 : None     ['Not Interested', 'Positive', 'Transfer']  \n",
       "759  AI bot level= 1 : None     ['Not Interested', 'Positive', 'Transfer']  \n",
       "760  AI bot level= 1 : None                       ['Positive', 'Transfer']  \n",
       "\n",
       "[761 rows x 4 columns]"
      ]
     },
     "execution_count": 9,
     "metadata": {},
     "output_type": "execute_result"
    }
   ],
   "source": [
    "df"
   ]
  },
  {
   "cell_type": "code",
   "execution_count": 10,
   "metadata": {},
   "outputs": [],
   "source": [
    "df"
   ]
  },
  {
   "cell_type": "code",
   "execution_count": 13,
   "metadata": {},
   "outputs": [
    {
     "data": {
      "text/plain": [
       "0      hello this is not a very day shipping how can ...\n",
       "2                                                 romero\n",
       "4                                                  hello\n",
       "12                                                 hello\n",
       "13                                            our garage\n",
       "                             ...                        \n",
       "746                                                  but\n",
       "747                                                  god\n",
       "748                                                  our\n",
       "750                                          out for you\n",
       "757                                                   oh\n",
       "Name: AI bot got this data, Length: 189, dtype: object"
      ]
     },
     "execution_count": 13,
     "metadata": {},
     "output_type": "execute_result"
    }
   ],
   "source": [
    "filtered_rows['AI bot got this data']"
   ]
  },
  {
   "cell_type": "code",
   "execution_count": null,
   "metadata": {},
   "outputs": [],
   "source": []
  }
 ],
 "metadata": {
  "kernelspec": {
   "display_name": "dev",
   "language": "python",
   "name": "python3"
  },
  "language_info": {
   "codemirror_mode": {
    "name": "ipython",
    "version": 3
   },
   "file_extension": ".py",
   "mimetype": "text/x-python",
   "name": "python",
   "nbconvert_exporter": "python",
   "pygments_lexer": "ipython3",
   "version": "3.10.8"
  },
  "orig_nbformat": 4
 },
 "nbformat": 4,
 "nbformat_minor": 2
}
